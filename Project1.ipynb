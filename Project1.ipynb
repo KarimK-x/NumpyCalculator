{
 "cells": [
  {
   "cell_type": "markdown",
   "id": "3560bef8",
   "metadata": {},
   "source": [
    "# FINISHED"
   ]
  },
  {
   "cell_type": "code",
   "execution_count": 1,
   "id": "bb272864",
   "metadata": {},
   "outputs": [],
   "source": [
    "import numpy as np\n"
   ]
  },
  {
   "cell_type": "code",
   "execution_count": 2,
   "id": "8fe74698",
   "metadata": {},
   "outputs": [
    {
     "name": "stdout",
     "output_type": "stream",
     "text": [
      "Enter your array of 9 numbers! \n"
     ]
    }
   ],
   "source": [
    "oldlist = [int(input(\"Enter a num: \")) for i in range(9)]\n"
   ]
  },
  {
   "cell_type": "code",
   "execution_count": 3,
   "id": "cf94716e",
   "metadata": {},
   "outputs": [],
   "source": [
    "oldlist = np.array(oldlist)\n",
    "oldlist = oldlist.reshape(3,3)\n"
   ]
  },
  {
   "cell_type": "code",
   "execution_count": 6,
   "id": "0851b7bb",
   "metadata": {},
   "outputs": [],
   "source": [
    "def calculate(mylist):\n",
    "\n",
    "    mymean = [np.mean(mylist,axis =1), np.mean(mylist, axis = 0), round(np.mean(mylist), 1)]\n",
    "    myvar = [np.var(mylist,axis =1), np.var(mylist, axis = 0), round(np.var(mylist),1)]\n",
    "    mystdev = [np.std(mylist,axis =1), np.std(mylist, axis = 0), round(np.std(mylist),1)]\n",
    "    mymax = [np.max(mylist,axis =1), np.max(mylist, axis = 0), np.max(mylist)]\n",
    "    mymin = [np.min(mylist,axis =1), np.min(mylist, axis = 0), np.min(mylist)]\n",
    "    mysum = [np.sum(mylist,axis =1), np.sum(mylist, axis = 0), np.sum(mylist)]\n",
    "    \n",
    "    result =  {\n",
    "        \"mean\" : mymean,\n",
    "        \"variance\": myvar,\n",
    "        \"stdev\": mystdev,\n",
    "        \"max\" : mymax,\n",
    "        \"minim\" : mymin,\n",
    "        \"sum\" : mysum\n",
    "    }\n",
    "    \n",
    "    row_labels=[\"Rows\", \"Columns\", \"Total\"]\n",
    "    for key,value in result.items():\n",
    "        print(f\"------{key.upper()}------\")\n",
    "        for index,item in enumerate(value):\n",
    "            print(f\"{row_labels[index]}: {item}\\n\")\n",
    "    return 0"
   ]
  },
  {
   "cell_type": "code",
   "execution_count": 7,
   "id": "8a78e7f0",
   "metadata": {},
   "outputs": [
    {
     "name": "stdout",
     "output_type": "stream",
     "text": [
      "------MEAN------\n",
      "Rows: [2. 5. 8.]\n",
      "\n",
      "Columns: [4. 5. 6.]\n",
      "\n",
      "Total: 5.0\n",
      "\n",
      "------VARIANCE------\n",
      "Rows: [0.66666667 0.66666667 0.66666667]\n",
      "\n",
      "Columns: [6. 6. 6.]\n",
      "\n",
      "Total: 6.7\n",
      "\n",
      "------STDEV------\n",
      "Rows: [0.81649658 0.81649658 0.81649658]\n",
      "\n",
      "Columns: [2.44948974 2.44948974 2.44948974]\n",
      "\n",
      "Total: 2.6\n",
      "\n",
      "------MAX------\n",
      "Rows: [3 6 9]\n",
      "\n",
      "Columns: [7 8 9]\n",
      "\n",
      "Total: 9\n",
      "\n",
      "------MINIM------\n",
      "Rows: [1 4 7]\n",
      "\n",
      "Columns: [1 2 3]\n",
      "\n",
      "Total: 1\n",
      "\n",
      "------SUM------\n",
      "Rows: [ 6 15 24]\n",
      "\n",
      "Columns: [12 15 18]\n",
      "\n",
      "Total: 45\n",
      "\n"
     ]
    },
    {
     "data": {
      "text/plain": [
       "0"
      ]
     },
     "execution_count": 7,
     "metadata": {},
     "output_type": "execute_result"
    }
   ],
   "source": [
    "calculate(oldlist)"
   ]
  }
 ],
 "metadata": {
  "kernelspec": {
   "display_name": "Python 3 (ipykernel)",
   "language": "python",
   "name": "python3"
  },
  "language_info": {
   "codemirror_mode": {
    "name": "ipython",
    "version": 3
   },
   "file_extension": ".py",
   "mimetype": "text/x-python",
   "name": "python",
   "nbconvert_exporter": "python",
   "pygments_lexer": "ipython3",
   "version": "3.10.6"
  }
 },
 "nbformat": 4,
 "nbformat_minor": 5
}
